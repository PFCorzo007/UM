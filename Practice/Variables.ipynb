{
 "cells": [
  {
   "cell_type": "code",
   "execution_count": null,
   "metadata": {},
   "outputs": [],
   "source": []
  }
 ],
 "metadata": {
  "interpreter": {
   "hash": "4391dcbe6c2267ad3c44f3e6a8afcb8a4619f1667985174056e2736c1cbef605"
  },
  "kernelspec": {
   "display_name": "Python 3.8.8 64-bit ('fintech': conda)",
   "name": "python3"
  },
  "language_info": {
   "name": "python",
   "version": "3.8.8"
  },
  "orig_nbformat": 4
 },
 "nbformat": 4,
 "nbformat_minor": 2
}
